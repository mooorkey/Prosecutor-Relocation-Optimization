{
 "cells": [
  {
   "cell_type": "code",
   "execution_count": 1,
   "metadata": {},
   "outputs": [],
   "source": [
    "import numpy as np\n",
    "import matplotlib.pyplot as plt\n",
    "import time\n",
    "from random_matrix import generate_matrix, print_matrix"
   ]
  },
  {
   "cell_type": "code",
   "execution_count": 2,
   "metadata": {},
   "outputs": [],
   "source": [
    "'''\n",
    "This Branch and Bound function removed the condition that check for the cost\n",
    "of newly created node\n",
    "'''\n",
    "def find_least_cost(cost_matrix):\n",
    "    worker_length = len(cost_matrix)\n",
    "    lower_bound = float('inf')\n",
    "    assignment_result = []\n",
    "\n",
    "    iteration = 0\n",
    "    combination = 0\n",
    "\n",
    "    unpruned_nodes = [(0, [], list(range(worker_length)))] \n",
    "    \n",
    "    while unpruned_nodes:\n",
    "        cost, assignment, unassigned = unpruned_nodes.pop()\n",
    "        iteration += 1\n",
    "\n",
    "        if not unassigned:\n",
    "            combination += 1 \n",
    "            if cost < lower_bound:\n",
    "                lower_bound = cost \n",
    "                assignment_result = assignment \n",
    "            continue\n",
    "\n",
    "        for job in unassigned:\n",
    "            new_assignment = assignment + [job] \n",
    "            new_unassigned = [j for j in unassigned if j != job]\n",
    "            new_cost = calculate_cost(cost_matrix, new_assignment)\n",
    "            unpruned_nodes.append((new_cost, new_assignment, new_unassigned))  \n",
    "\n",
    "    # print(f\"{iteration} Iterations and {combination} combinations\") # For debugging\n",
    "    return lower_bound, assignment_result\n",
    "\n",
    "def calculate_cost(matrix, assignment):\n",
    "    cost = 0\n",
    "    for worker, job in enumerate(assignment):\n",
    "        cost += matrix[worker][job]\n",
    "    return cost"
   ]
  },
  {
   "cell_type": "code",
   "execution_count": 4,
   "metadata": {},
   "outputs": [
    {
     "name": "stdout",
     "output_type": "stream",
     "text": [
      "65 Iterations and 24 combinations\n",
      "Optimal Solution: 13\n",
      "Optimal Assignment: [1, 0, 2, 3]\n",
      "Time Took : 0.0009610652923583984 s\n"
     ]
    }
   ],
   "source": [
    "# dummy input\n",
    "# output should be\n",
    "# worker 0 -> job 1\n",
    "# worker 1 -> job 0\n",
    "# worker 2 -> job 2\n",
    "# worker 3 -> job 3\n",
    "# optimal cost = 13\n",
    "input_data = np.array([\n",
    "#job 0, 1, 2, 3 \n",
    "    [9, 2, 7, 8], # Worker 0\n",
    "    [6, 4, 3, 7], # Worker 1\n",
    "    [5, 8, 1, 8], # Worker 2\n",
    "    [7, 6, 9, 4]  # Worker 3\n",
    "])\n",
    "start = time.time()\n",
    "solution, assignment = find_least_cost(input_data)\n",
    "end = time.time()\n",
    "print(\"Optimal Solution:\", solution)\n",
    "print(\"Optimal Assignment:\", assignment)\n",
    "print(\"Time Took :\", end-start, \"s\")"
   ]
  },
  {
   "cell_type": "code",
   "execution_count": 10,
   "metadata": {},
   "outputs": [],
   "source": [
    "def test_bnb(size_input, dbg):\n",
    "    execution_times = []\n",
    "    for size in size_input:\n",
    "        print(f\"Input size : {size}\")\n",
    "        data = generate_matrix(size)\n",
    "        start = time.time()\n",
    "        solution, assignment = find_least_cost(data)\n",
    "        end = time.time()\n",
    "        execution_time = end - start\n",
    "        \n",
    "        if dbg:\n",
    "            print_matrix(data)\n",
    "            print(\"Optimal Solution:\", solution)\n",
    "            print(\"Optimal Assignment:\", assignment)    \n",
    "        print(\"Time Took :\", f\"{execution_time:.6f}s\\n\")\n",
    "        execution_times.append(execution_time)\n",
    "    return execution_times"
   ]
  },
  {
   "cell_type": "code",
   "execution_count": 11,
   "metadata": {},
   "outputs": [
    {
     "name": "stdout",
     "output_type": "stream",
     "text": [
      "Input size : 1\n",
      "2 Iterations and 1 combinations\n",
      "Time Took : 0.000000s\n",
      "\n",
      "Input size : 2\n",
      "5 Iterations and 2 combinations\n",
      "Time Took : 0.000000s\n",
      "\n",
      "Input size : 3\n",
      "16 Iterations and 6 combinations\n",
      "Time Took : 0.000000s\n",
      "\n",
      "Input size : 4\n",
      "65 Iterations and 24 combinations\n",
      "Time Took : 0.000000s\n",
      "\n",
      "Input size : 5\n",
      "326 Iterations and 120 combinations\n",
      "Time Took : 0.002000s\n",
      "\n",
      "Input size : 6\n",
      "1957 Iterations and 720 combinations\n",
      "Time Took : 0.001494s\n",
      "\n",
      "Input size : 7\n",
      "13700 Iterations and 5040 combinations\n",
      "Time Took : 0.011283s\n",
      "\n",
      "Input size : 8\n",
      "109601 Iterations and 40320 combinations\n",
      "Time Took : 0.094650s\n",
      "\n",
      "Input size : 9\n",
      "986410 Iterations and 362880 combinations\n",
      "Time Took : 0.874492s\n",
      "\n",
      "Input size : 10\n",
      "9864101 Iterations and 3628800 combinations\n",
      "Time Took : 9.152874s\n",
      "\n",
      "Input size : 11\n",
      "108505112 Iterations and 39916800 combinations\n",
      "Time Took : 104.115720s\n",
      "\n",
      "Input size : 12\n"
     ]
    }
   ],
   "source": [
    "input_size = [size for size in range(1, 13)]\n",
    "execution_times = test_bnb(input_size, False)\n",
    "print(execution_times)"
   ]
  },
  {
   "cell_type": "code",
   "execution_count": null,
   "metadata": {},
   "outputs": [
    {
     "data": {
      "image/png": "[encoded data removed]",
      "text/plain": [
       "<Figure size 432x288 with 1 Axes>"
      ]
     },
     "metadata": {
      "needs_background": "light"
     },
     "output_type": "display_data"
    }
   ],
   "source": [
    "import numpy as np\n",
    "import matplotlib.pyplot as plt\n",
    "\n",
    "plt.plot(input_size, execution_times, marker='o')\n",
    "plt.title(\"Execution Time vs. Input Size\")\n",
    "plt.xlabel(\"Input Size(NxN)\")\n",
    "plt.ylabel(\"Execution Time (s)\")\n",
    "plt.grid(True)\n",
    "plt.show()"
   ]
  }
 ],
 "metadata": {
  "kernelspec": {
   "display_name": "Python 3",
   "language": "python",
   "name": "python3"
  },
  "language_info": {
   "codemirror_mode": {
    "name": "ipython",
    "version": 3
   },
   "file_extension": ".py",
   "mimetype": "text/x-python",
   "name": "python",
   "nbconvert_exporter": "python",
   "pygments_lexer": "ipython3",
   "version": "3.11.5"
  },
  "orig_nbformat": 4
 },
 "nbformat": 4,
 "nbformat_minor": 2
}
