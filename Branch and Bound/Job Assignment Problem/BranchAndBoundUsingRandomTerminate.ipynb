{
 "cells": [
  {
   "cell_type": "code",
   "execution_count": 1,
   "metadata": {},
   "outputs": [],
   "source": [
    "import numpy as np\n",
    "import matplotlib.pyplot as plt\n",
    "import time\n",
    "from random_matrix import generate_matrix, print_matrix"
   ]
  },
  {
   "cell_type": "code",
   "execution_count": 2,
   "metadata": {},
   "outputs": [],
   "source": [
    "'''\n",
    "This function is literally the same with the one in the base code\n",
    "but cleaner and no comment the main purpose is for testing\n",
    "'''\n",
    "def find_least_cost(cost_matrix):\n",
    "    worker_length = len(cost_matrix)\n",
    "    lower_bound = float('inf') \n",
    "    assignment_result = []\n",
    "\n",
    "    iteration = 0\n",
    "    combination = 0\n",
    "\n",
    "    unpruned_nodes = [(0, [], list(range(worker_length)))] \n",
    "    \n",
    "    while unpruned_nodes:\n",
    "        cost, assignment, unassigned = unpruned_nodes.pop() \n",
    "        iteration += 1\n",
    "\n",
    "        if not unassigned: \n",
    "            combination += 1 \n",
    "            if cost < lower_bound:\n",
    "                lower_bound = cost \n",
    "                assignment_result = assignment \n",
    "            continue\n",
    "\n",
    "        for job in unassigned:\n",
    "            new_assignment = assignment + [job] \n",
    "            new_unassigned = [j for j in unassigned if j != job] \n",
    "            new_cost = calculate_cost(cost_matrix, new_assignment)\n",
    "\n",
    "            if new_cost < lower_bound:\n",
    "                unpruned_nodes.append((new_cost, new_assignment, new_unassigned))  \n",
    "\n",
    "    # print(f\"{iteration} Iterations though {combination} combinations\") # For debugging\n",
    "    return lower_bound, assignment_result\n",
    "\n",
    "def calculate_cost(matrix, assignment):\n",
    "    cost = 0\n",
    "    for worker, job in enumerate(assignment):\n",
    "        cost += matrix[worker][job]\n",
    "    return cost"
   ]
  },
  {
   "cell_type": "code",
   "execution_count": 3,
   "metadata": {},
   "outputs": [
    {
     "name": "stdout",
     "output_type": "stream",
     "text": [
      "34 Iterations though 6 combinations\n",
      "Optimal Solution: 13\n",
      "Optimal Assignment: [1, 0, 2, 3]\n",
      "Time Took : 0.0010879039764404297 s\n"
     ]
    }
   ],
   "source": [
    "# dummy input\n",
    "# output should be\n",
    "# worker 0 -> job 1\n",
    "# worker 1 -> job 0\n",
    "# worker 2 -> job 2\n",
    "# worker 3 -> job 3\n",
    "# optimal cost = 13\n",
    "input_data = np.array([\n",
    "#job 0, 1, 2, 3 \n",
    "    [9, 2, 7, 8], # Worker 0\n",
    "    [6, 4, 3, 7], # Worker 1\n",
    "    [5, 8, 1, 8], # Worker 2\n",
    "    [7, 6, 9, 4]  # Worker 3\n",
    "])\n",
    "start = time.time()\n",
    "solution, assignment = find_least_cost(input_data)\n",
    "end = time.time()\n",
    "print(\"Optimal Solution:\", solution)\n",
    "print(\"Optimal Assignment:\", assignment)\n",
    "print(\"Time Took :\", end-start, \"s\")"
   ]
  },
  {
   "cell_type": "code",
   "execution_count": 8,
   "metadata": {},
   "outputs": [],
   "source": [
    "def test_bnb(size_input, dbg):\n",
    "    execution_times = []\n",
    "    for size in size_input:\n",
    "        print(f\"Input size : {size}\")\n",
    "        data = generate_matrix(size)\n",
    "        start = time.time()\n",
    "        solution, assignment = find_least_cost(data)\n",
    "        end = time.time()\n",
    "        execution_time = end - start\n",
    "        \n",
    "        if dbg:\n",
    "            print_matrix(data)\n",
    "            print(\"Optimal Solution:\", solution)\n",
    "            print(\"Optimal Assignment:\", assignment)    \n",
    "        print(\"Time Took :\", f\"{execution_time:.6f}s\\n\")\n",
    "        execution_times.append(execution_time)\n",
    "    return execution_times"
   ]
  },
  {
   "cell_type": "code",
   "execution_count": 9,
   "metadata": {},
   "outputs": [
    {
     "name": "stdout",
     "output_type": "stream",
     "text": [
      "Input size : 1\n",
      "2 Iterations though 1 combinations\n",
      "Time Took : 0.000000s\n",
      "\n",
      "Input size : 2\n",
      "4 Iterations though 1 combinations\n",
      "Time Took : 0.000000s\n",
      "\n",
      "Input size : 3\n",
      "7 Iterations though 1 combinations\n",
      "Time Took : 0.000000s\n",
      "\n",
      "Input size : 4\n",
      "30 Iterations though 4 combinations\n",
      "Time Took : 0.001007s\n",
      "\n",
      "Input size : 5\n",
      "62 Iterations though 4 combinations\n",
      "Time Took : 0.000000s\n",
      "\n",
      "Input size : 6\n",
      "259 Iterations though 7 combinations\n",
      "Time Took : 0.000000s\n",
      "\n",
      "Input size : 7\n",
      "339 Iterations though 8 combinations\n",
      "Time Took : 0.001405s\n",
      "\n",
      "Input size : 8\n",
      "1962 Iterations though 13 combinations\n",
      "Time Took : 0.004990s\n",
      "\n",
      "Input size : 9\n",
      "2286 Iterations though 13 combinations\n",
      "Time Took : 0.007525s\n",
      "\n",
      "Input size : 10\n",
      "15606 Iterations though 26 combinations\n",
      "Time Took : 0.050068s\n",
      "\n",
      "Input size : 11\n",
      "62572 Iterations though 25 combinations\n",
      "Time Took : 0.255025s\n",
      "\n",
      "Input size : 12\n",
      "93123 Iterations though 44 combinations\n",
      "Time Took : 0.398916s\n",
      "\n",
      "Input size : 13\n",
      "76142 Iterations though 27 combinations\n",
      "Time Took : 0.399394s\n",
      "\n",
      "Input size : 14\n",
      "215455 Iterations though 44 combinations\n",
      "Time Took : 1.266196s\n",
      "\n",
      "Input size : 15\n",
      "437334 Iterations though 43 combinations\n",
      "Time Took : 2.921831s\n",
      "\n",
      "Input size : 16\n",
      "1014744 Iterations though 44 combinations\n",
      "Time Took : 7.528026s\n",
      "\n",
      "Input size : 17\n",
      "35951145 Iterations though 81 combinations\n",
      "Time Took : 252.706337s\n",
      "\n",
      "Input size : 18\n",
      "6072505 Iterations though 81 combinations\n",
      "Time Took : 52.735735s\n",
      "\n",
      "[0.0, 0.0, 0.0, 0.0010073184967041016, 0.0, 0.0, 0.0014052391052246094, 0.004990100860595703, 0.007525444030761719, 0.05006814002990723, 0.25502514839172363, 0.39891576766967773, 0.39939355850219727, 1.2661964893341064, 2.921830654144287, 7.52802586555481, 252.70633673667908, 52.735734939575195]\n"
     ]
    }
   ],
   "source": [
    "input_size = [size for size in range(1, 19)]\n",
    "execution_times = test_bnb(input_size, False)\n",
    "print(execution_times)"
   ]
  },
  {
   "cell_type": "code",
   "execution_count": 10,
   "metadata": {},
   "outputs": [
    {
     "data": {
      "image/png": "[encoded data removed]",
      "text/plain": [
       "<Figure size 432x288 with 1 Axes>"
      ]
     },
     "metadata": {
      "needs_background": "light"
     },
     "output_type": "display_data"
    }
   ],
   "source": [
    "import numpy as np\n",
    "import matplotlib.pyplot as plt\n",
    "\n",
    "plt.plot(input_size, execution_times, marker='o')\n",
    "plt.title(\"Execution Time vs. Input Size\")\n",
    "plt.xlabel(\"Input Size(NxN)\")\n",
    "plt.ylabel(\"Execution Time (s)\")\n",
    "plt.grid(True)\n",
    "plt.show()"
   ]
  }
 ],
 "metadata": {
  "kernelspec": {
   "display_name": "Python 3",
   "language": "python",
   "name": "python3"
  },
  "language_info": {
   "codemirror_mode": {
    "name": "ipython",
    "version": 3
   },
   "file_extension": ".py",
   "mimetype": "text/x-python",
   "name": "python",
   "nbconvert_exporter": "python",
   "pygments_lexer": "ipython3",
   "version": "3.11.5"
  },
  "orig_nbformat": 4
 },
 "nbformat": 4,
 "nbformat_minor": 2
}
